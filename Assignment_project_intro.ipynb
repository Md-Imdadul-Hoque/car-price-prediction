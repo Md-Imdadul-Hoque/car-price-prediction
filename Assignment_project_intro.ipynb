{
 "cells": [
  {
   "cell_type": "markdown",
   "metadata": {},
   "source": [
    "# Introduction to Data Science Projects"
   ]
  },
  {
   "cell_type": "markdown",
   "metadata": {},
   "source": [
    "<font color='Brown'>**In this assignment, you will download and analysis three of your favourite dataset (CSV or TSV or EXCEL**</font>"
   ]
  },
  {
   "cell_type": "markdown",
   "metadata": {},
   "source": [
    "## Dataset 1"
   ]
  },
  {
   "cell_type": "markdown",
   "metadata": {},
   "source": [
    "Please answer the following questions.\n",
    "\n",
    "<font color = 'blue'>**1. State in brief about the high-level idea of the dataset? What the dataset is about? Donot exceed more than 3 sentences**</font>\n",
    "\n",
    "Answer: ###Your answer here###\n",
    "\n",
    "<font color = 'blue'>**2. Where did you find the dataset? Give specific link or source. State clearly if the dataset is collected from somehwere unsharable and why**</font>\n",
    "\n",
    "Answer: ###Your answer here###\n",
    "\n",
    "<font color = 'blue'>**3. What is the specific reason that you chose the dataset?**</font>\n",
    "\n",
    "Answer: ###Your answer here###\n",
    "\n",
    "<font color = 'blue'>**4. How many rows and how many columns the dataset contains?**</font>\n",
    "\n",
    "Answer: ###Your answer here###\n",
    "\n",
    "<font color = 'blue'>**5. What are the name of the columns? What each column means, state and explain clearly. If some column description is unclear to you, also state that.**</font>\n",
    "\n",
    "Answer: ###Your answer here###\n",
    "\n",
    "<font color = 'blue'>**6. What is the data type of each column? Is it integer, float or string?**</font>\n",
    "\n",
    "Answer: ###Your answer here###"
   ]
  },
  {
   "cell_type": "markdown",
   "metadata": {},
   "source": [
    "## Dataset 2"
   ]
  },
  {
   "cell_type": "markdown",
   "metadata": {},
   "source": [
    "Please answer the following questions.\n",
    "\n",
    "<font color = 'blue'>**1. State in brief about the high-level idea of the dataset? What the dataset is about? Donot exceed more than 3 sentences**</font>\n",
    "\n",
    "Answer: ###Your answer here###\n",
    "\n",
    "<font color = 'blue'>**2. Where did you find the dataset? Give specific link or source. State clearly if the dataset is collected from somehwere unsharable and why**</font>\n",
    "\n",
    "Answer: ###Your answer here###\n",
    "\n",
    "<font color = 'blue'>**3. What is the specific reason that you chose the dataset?**</font>\n",
    "\n",
    "Answer: ###Your answer here###\n",
    "\n",
    "<font color = 'blue'>**4. How many rows and how many columns the dataset contains?**</font>\n",
    "\n",
    "Answer: ###Your answer here###\n",
    "\n",
    "<font color = 'blue'>**5. What are the name of the columns? What each column means, state and explain clearly. If some column description is unclear to you, also state that.**</font>\n",
    "\n",
    "Answer: ###Your answer here###\n",
    "\n",
    "<font color = 'blue'>**6. What is the data type of each column? Is it integer, float or string?**</font>\n",
    "\n",
    "Answer: ###Your answer here###"
   ]
  },
  {
   "cell_type": "markdown",
   "metadata": {},
   "source": [
    "## Dataset 3"
   ]
  },
  {
   "cell_type": "markdown",
   "metadata": {},
   "source": [
    "Please answer the following questions.\n",
    "\n",
    "<font color = 'blue'>**1. State in brief about the high-level idea of the dataset? What the dataset is about? Donot exceed more than 3 sentences**</font>\n",
    "\n",
    "Answer: ###Your answer here###\n",
    "\n",
    "<font color = 'blue'>**2. Where did you find the dataset? Give specific link or source. State clearly if the dataset is collected from somehwere unsharable and why**</font>\n",
    "\n",
    "Answer: ###Your answer here###\n",
    "\n",
    "<font color = 'blue'>**3. What is the specific reason that you chose the dataset?**</font>\n",
    "\n",
    "Answer: ###Your answer here###\n",
    "\n",
    "<font color = 'blue'>**4. How many rows and how many columns the dataset contains?**</font>\n",
    "\n",
    "Answer: ###Your answer here###\n",
    "\n",
    "<font color = 'blue'>**5. What are the name of the columns? What each column means, state and explain clearly. If some column description is unclear to you, also state that.**</font>\n",
    "\n",
    "Answer: ###Your answer here###\n",
    "\n",
    "<font color = 'blue'>**6. What is the data type of each column? Is it integer, float or string?**</font>\n",
    "\n",
    "Answer: ###Your answer here###"
   ]
  },
  {
   "cell_type": "markdown",
   "metadata": {},
   "source": [
    "# Please provide any additional description or analysis or work that you want to show here"
   ]
  },
  {
   "cell_type": "code",
   "execution_count": null,
   "metadata": {},
   "outputs": [],
   "source": []
  }
 ],
 "metadata": {
  "kernelspec": {
   "display_name": "Python 3",
   "language": "python",
   "name": "python3"
  },
  "language_info": {
   "codemirror_mode": {
    "name": "ipython",
    "version": 3
   },
   "file_extension": ".py",
   "mimetype": "text/x-python",
   "name": "python",
   "nbconvert_exporter": "python",
   "pygments_lexer": "ipython3",
   "version": "3.7.4"
  }
 },
 "nbformat": 4,
 "nbformat_minor": 2
}
